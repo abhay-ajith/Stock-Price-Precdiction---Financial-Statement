{
 "cells": [
  {
   "cell_type": "markdown",
   "metadata": {
    "id": "n6fWqeDjyk4D"
   },
   "source": [
    "\n",
    "\n",
    "## Python Packages\n",
    "\n"
   ]
  },
  {
   "cell_type": "code",
   "execution_count": null,
   "metadata": {
    "id": "JhEJ8sVeyZzz"
   },
   "outputs": [],
   "source": [
    "import pandas as pd\n",
    "import numpy as np\n",
    "import matplotlib.pyplot as plt\n",
    "from warnings import filterwarnings\n",
    "from sklearn.preprocessing import StandardScaler\n",
    "from sklearn.preprocessing import LabelEncoder\n",
    "from sklearn.linear_model import LinearRegression\n",
    "from sklearn.preprocessing import MinMaxScaler\n",
    "from keras.models import Sequential\n",
    "from keras.layers import Dense, Dropout, LSTM\n",
    "from fastai.tabular import add_datepart"
   ]
  },
  {
   "cell_type": "code",
   "execution_count": null,
   "metadata": {
    "id": "KzgZuPU38Fnb"
   },
   "outputs": [],
   "source": [
    "from ml_phase_1 import DataPreprocessing\n",
    "from linear_regressor import LinearRegressor\n",
    "from knn_regressor import KNNRegressor\n",
    "from decision_tree_regressor import DecisionTreeRegression\n",
    "from lstm import Lstm"
   ]
  },
  {
   "cell_type": "markdown",
   "metadata": {
    "id": "gZmk_MDoPcJG"
   },
   "source": [
    "### Data Preprocessing(Phase-1)"
   ]
  },
  {
   "cell_type": "code",
   "execution_count": null,
   "metadata": {
    "id": "UE7n68BQ91Rg"
   },
   "outputs": [],
   "source": [
    "filterwarnings('ignore')"
   ]
  },
  {
   "cell_type": "code",
   "execution_count": null,
   "metadata": {
    "colab": {
     "base_uri": "https://localhost:8080/",
     "height": 993
    },
    "id": "swu6tYLXyzj_",
    "outputId": "76eb9bcc-f537-478a-f3b1-061bd3e5ba7c"
   },
   "outputs": [],
   "source": [
    "filename = 'C.csv'\n",
    "df = DataPreprocessing(filename)\n",
    "df.ProcessData()\n",
    "train1,test1 = df.CleanData()\n",
    "df.Visualize()"
   ]
  },
  {
   "cell_type": "code",
   "execution_count": null,
   "metadata": {
    "colab": {
     "base_uri": "https://localhost:8080/",
     "height": 483
    },
    "id": "1QAbg2rEtWP0",
    "outputId": "5e8d96b2-0221-4e19-e840-50767c87c17b"
   },
   "outputs": [],
   "source": [
    "test_A = LinearRegressor(train1,test1)\n",
    "linear_reg_predA = test_A.predict()\n",
    "test_A.Visualize(linear_reg_predA)"
   ]
  },
  {
   "cell_type": "code",
   "execution_count": null,
   "metadata": {
    "colab": {
     "base_uri": "https://localhost:8080/"
    },
    "id": "0eJLzgpfO3Um",
    "outputId": "78e7167a-2b36-4d69-94bc-f6f677d716e0"
   },
   "outputs": [],
   "source": [
    "lstm = Lstm(filename)\n",
    "db,dataset = lstm.CleanData()\n",
    "lstm_preds = lstm.predict(db)\n"
   ]
  },
  {
   "cell_type": "code",
   "execution_count": null,
   "metadata": {
    "colab": {
     "base_uri": "https://localhost:8080/",
     "height": 483
    },
    "id": "Ytpc0VGOo4JX",
    "outputId": "a8016dae-065a-47c7-df69-008e3f1fb6fb"
   },
   "outputs": [],
   "source": [
    "lstm.Visualize(db,lstm_preds)"
   ]
  },
  {
   "cell_type": "code",
   "execution_count": null,
   "metadata": {
    "id": "L-fsi-iu7g38"
   },
   "outputs": [],
   "source": [
    "alpha =0.0000002\n",
    "theta = np.zeros((14,1))"
   ]
  },
  {
   "cell_type": "code",
   "execution_count": null,
   "metadata": {
    "colab": {
     "base_uri": "https://localhost:8080/"
    },
    "id": "coHlViE79a6P",
    "outputId": "f7ba0890-55cd-4b1f-f8e8-3c765bdffbb1"
   },
   "outputs": [],
   "source": [
    "test1.info()"
   ]
  },
  {
   "cell_type": "code",
   "execution_count": null,
   "metadata": {
    "colab": {
     "base_uri": "https://localhost:8080/",
     "height": 517
    },
    "id": "SQmVBM0ZJwEJ",
    "outputId": "1a91e3e8-b271-473c-cd8a-294950b37456"
   },
   "outputs": [],
   "source": [
    "knn   = KNNRegressor()\n",
    "preds = knn.predict(train1,test1)\n",
    "knn.Visualize(preds,train1,test1)"
   ]
  },
  {
   "cell_type": "code",
   "execution_count": null,
   "metadata": {
    "colab": {
     "base_uri": "https://localhost:8080/",
     "height": 517
    },
    "id": "a1hYdXB5Jwxe",
    "outputId": "42b469f4-df2b-48bd-fbbd-450a658b5380"
   },
   "outputs": [],
   "source": [
    "dt    = DecisionTreeRegression()\n",
    "preds = dt.predict(train1,test1)\n",
    "dt.Visualize(preds,train1,test1)"
   ]
  },
  {
   "cell_type": "code",
   "execution_count": null,
   "metadata": {
    "id": "glGgKD6xE2Ce"
   },
   "outputs": [],
   "source": [
    "train = train1\n",
    "test = test1.drop('Predictions',axis = 1)"
   ]
  },
  {
   "cell_type": "code",
   "execution_count": null,
   "metadata": {
    "id": "8Us513rBEpYa"
   },
   "outputs": [],
   "source": [
    "x_train = train.drop('Close', axis=1)\n",
    "y_train = train['Close']\n",
    "x_test = test.drop('Close', axis=1)\n",
    "y_test = test['Close']"
   ]
  },
  {
   "cell_type": "code",
   "execution_count": null,
   "metadata": {
    "id": "1e773d5aEGXw"
   },
   "outputs": [],
   "source": [
    "encoder = LabelEncoder()\n",
    "def convert(dataset,column):\n",
    "  dataset[column] = encoder.fit_transform(dataset[column])\n",
    "convert(x_train,'Is_month_end')\n",
    "convert(x_train,'Is_month_start')\n",
    "convert(x_train,'Is_quarter_end')\n",
    "convert(x_train,'Is_quarter_start')\n",
    "convert(x_train,'Is_year_end')\n",
    "convert(x_train,'Is_year_start')"
   ]
  },
  {
   "cell_type": "code",
   "execution_count": null,
   "metadata": {
    "id": "QS3GUjlID8Vi"
   },
   "outputs": [],
   "source": [
    "alpha =0.0000002\n",
    "m = len(x_train)\n",
    "theta = np.zeros((14,1))"
   ]
  },
  {
   "cell_type": "code",
   "execution_count": null,
   "metadata": {
    "id": "eYuMtVOIELyn"
   },
   "outputs": [],
   "source": [
    "x_train = np.array(x_train)\n",
    "y_train = np.array(y_train)\n",
    "y_train = y_train.reshape((len(y_train),1))\n",
    "x_train = np.append(np.ones((len(x_train),1)),x_train,axis = 1)"
   ]
  },
  {
   "cell_type": "code",
   "execution_count": null,
   "metadata": {
    "id": "lgszTGqcEAXC"
   },
   "outputs": [],
   "source": [
    "def cost_function(x,y,theta):\n",
    "  y_pred = np.dot(x,theta)\n",
    "  error = (y_pred-y)**2\n",
    "  cost = 1/(2*m)*np.sum(error)\n",
    "  return cost"
   ]
  },
  {
   "cell_type": "code",
   "execution_count": null,
   "metadata": {
    "id": "YD5hxyeOECUT"
   },
   "outputs": [],
   "source": [
    "def gradient_descent(x,y,theta,alpha,epochs = 1500):\n",
    "  costs = []\n",
    "\n",
    "  for i in range(0,epochs):\n",
    "    y_pred = np.dot(x,theta)\n",
    "    D = np.dot(x.transpose(),(y_pred-y))/m\n",
    "    theta -= alpha*D\n",
    "    costs.append(cost_function(x,y,theta))\n",
    "  return costs,theta"
   ]
  },
  {
   "cell_type": "code",
   "execution_count": null,
   "metadata": {
    "id": "mvuQgLQAEQ1J"
   },
   "outputs": [],
   "source": [
    "costs,theta = gradient_descent(x_train,y_train,theta,0.0000002,1500)"
   ]
  },
  {
   "cell_type": "code",
   "execution_count": null,
   "metadata": {
    "id": "Rev5nzFgETZo"
   },
   "outputs": [],
   "source": [
    "y_pred = np.dot(np.append(np.ones((len(x_test),1)),x_test,axis = 1),theta)"
   ]
  },
  {
   "cell_type": "code",
   "execution_count": null,
   "metadata": {
    "colab": {
     "base_uri": "https://localhost:8080/",
     "height": 517
    },
    "id": "qINEJQUgEXVL",
    "outputId": "cdb1c2f3-c0f6-4035-dad2-c4e9c0224249"
   },
   "outputs": [],
   "source": [
    "test['Predictions'] = y_pred\n",
    "plt.figure(figsize= (16,8))\n",
    "plt.plot(train['Close'])\n",
    "plt.plot(test[['Close','Predictions']])\n"
   ]
  },
  {
   "cell_type": "code",
   "execution_count": null,
   "metadata": {},
   "outputs": [],
   "source": []
  }
 ],
 "metadata": {
  "colab": {
   "name": "Project-phase-2.ipynb",
   "provenance": []
  },
  "kernelspec": {
   "display_name": "Python 3",
   "language": "python",
   "name": "python3"
  },
  "language_info": {
   "codemirror_mode": {
    "name": "ipython",
    "version": 3
   },
   "file_extension": ".py",
   "mimetype": "text/x-python",
   "name": "python",
   "nbconvert_exporter": "python",
   "pygments_lexer": "ipython3",
   "version": "3.8.8"
  }
 },
 "nbformat": 4,
 "nbformat_minor": 1
}
